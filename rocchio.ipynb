{
 "cells": [
  {
   "cell_type": "code",
   "execution_count": 22,
   "metadata": {},
   "outputs": [],
   "source": [
    "import os\n",
    "import numpy as np\n",
    "import pandas as pd\n",
    "from sklearn.neighbors import NearestCentroid\n",
    "from sklearn.feature_extraction.text import TfidfVectorizer\n",
    "from sklearn.metrics import accuracy_score\n",
    "from sklearn.metrics import precision_recall_fscore_support\n",
    "from gensim.models.word2vec import Word2Vec"
   ]
  },
  {
   "cell_type": "code",
   "execution_count": 23,
   "metadata": {},
   "outputs": [],
   "source": [
    "def get_corpus_dfs(n):\n",
    "    if n == 1:\n",
    "        s = 'corpus1'\n",
    "    elif n == 2:\n",
    "        s = 'split_corpus2'\n",
    "    elif n == 3:\n",
    "        s = 'split_corpus3'\n",
    "\n",
    "    train = pd.read_csv('data/{}_train.labels'.format(s),\n",
    "                        delim_whitespace=True,\n",
    "                        names=['path', 'clf'])\n",
    "    \n",
    "    test = pd.read_csv('data/{}_test.labels'.format(s),\n",
    "                       delim_whitespace=True,\n",
    "                       names=['path', 'clf'])\n",
    "    \n",
    "    train.loc[:, 'path'] = train.loc[:, 'path'].map(lambda s: 'data' + s[1:])\n",
    "    test.loc[:, 'path'] = test.loc[:, 'path'].map(lambda s: 'data' + s[1:])\n",
    "    \n",
    "    return train, test"
   ]
  },
  {
   "cell_type": "code",
   "execution_count": 68,
   "metadata": {},
   "outputs": [],
   "source": [
    "def rocchio_performance(X_train, y_train, X_test, y_test):\n",
    "    '''\n",
    "    Given a train and test split, measure the overall accuracy,\n",
    "    precision, recall, F-1 score and support of the Rocchio classifier.\n",
    "    '''\n",
    "    rocchio_tfidf = NearestCentroid().fit(X_train, y_train)\n",
    "    \n",
    "    predictions = rocchio_tfidf.predict(X_test)\n",
    "    \n",
    "    acc =  accuracy_score(y_test, predictions)\n",
    "    prfs = np.vstack(precision_recall_fscore_support(predictions, y_test))\n",
    "    \n",
    "    print('Overall accuracy: {:f}'.format(acc))\n",
    "    print()\n",
    "    print(pd.DataFrame(data=prfs,\n",
    "                       index=['Precision', 'Recall', 'F-1', 'Support'],\n",
    "                       columns=rocchio_tfidf.classes_))\n",
    "    \n",
    "    return acc, prfs"
   ]
  },
  {
   "cell_type": "markdown",
   "metadata": {},
   "source": [
    "## Rocchio-tfidf"
   ]
  },
  {
   "cell_type": "code",
   "execution_count": 76,
   "metadata": {},
   "outputs": [
    {
     "name": "stdout",
     "output_type": "stream",
     "text": [
      "Corpus 1:\n",
      "Overall accuracy: 0.844244\n",
      "\n",
      "                 Cri        Dis        Oth         Pol         Str\n",
      "Precision   0.740000   0.977528   0.520000    0.791667    0.911111\n",
      "Recall      0.948718   0.906250   0.812500    0.883721    0.754601\n",
      "F-1         0.831461   0.940541   0.634146    0.835165    0.825503\n",
      "Support    39.000000  96.000000  16.000000  129.000000  163.000000\n",
      "\n",
      "\n",
      "Corpus 2:\n",
      "Overall accuracy: 0.802013\n",
      "\n",
      "                   I           O\n",
      "Precision   0.626374    0.879227\n",
      "Recall      0.695122    0.842593\n",
      "F-1         0.658960    0.860520\n",
      "Support    82.000000  216.000000\n",
      "\n",
      "\n",
      "Corpus 3:\n",
      "Overall accuracy: 0.886792\n",
      "\n",
      "                 Ent        Fin        Sci        Spo        USN         Wor\n",
      "Precision   0.750000   0.857143   0.973684   0.964286   0.913580    0.846154\n",
      "Recall      0.900000   0.923077   0.698113   0.964286   0.850575    0.980198\n",
      "F-1         0.818182   0.888889   0.813187   0.964286   0.880952    0.908257\n",
      "Support    10.000000  39.000000  53.000000  28.000000  87.000000  101.000000\n",
      "\n",
      "\n"
     ]
    }
   ],
   "source": [
    "for i in range(1, 4):\n",
    "    train, test = get_corpus_dfs(i)\n",
    "\n",
    "    vec = TfidfVectorizer(input='filename',\n",
    "                          strip_accents='unicode',\n",
    "                          stop_words='english',\n",
    "                          max_df=0.90,\n",
    "                          min_df=2,\n",
    "                          norm='l2')\n",
    "\n",
    "    tfidf_train = vec.fit_transform(train.loc[:, 'path'])\n",
    "    tfidf_test = vec.transform(test.loc[:, 'path'])\n",
    "    clf_train = train.loc[:, 'clf']\n",
    "    clf_test = test.loc[:, 'clf']\n",
    "\n",
    "    print('Corpus {}:'.format(i))\n",
    "    acc, prfs = rocchio_performance(tfidf_train, clf_train, tfidf_test, clf_test)\n",
    "    print('')\n",
    "    print('')"
   ]
  },
  {
   "cell_type": "code",
   "execution_count": null,
   "metadata": {},
   "outputs": [],
   "source": []
  },
  {
   "cell_type": "markdown",
   "metadata": {},
   "source": [
    "## Rocchio-glove"
   ]
  },
  {
   "cell_type": "code",
   "execution_count": null,
   "metadata": {},
   "outputs": [],
   "source": []
  },
  {
   "cell_type": "markdown",
   "metadata": {},
   "source": [
    "## Rocchio-word2vec"
   ]
  },
  {
   "cell_type": "code",
   "execution_count": 2,
   "metadata": {},
   "outputs": [],
   "source": [
    "w2v = Word2Vec.load('embeddings/w2v.corpus1.300d')"
   ]
  },
  {
   "cell_type": "code",
   "execution_count": null,
   "metadata": {},
   "outputs": [],
   "source": []
  }
 ],
 "metadata": {
  "kernelspec": {
   "display_name": "Python 3",
   "language": "python",
   "name": "python3"
  },
  "language_info": {
   "codemirror_mode": {
    "name": "ipython",
    "version": 3
   },
   "file_extension": ".py",
   "mimetype": "text/x-python",
   "name": "python",
   "nbconvert_exporter": "python",
   "pygments_lexer": "ipython3",
   "version": "3.6.4"
  }
 },
 "nbformat": 4,
 "nbformat_minor": 2
}
