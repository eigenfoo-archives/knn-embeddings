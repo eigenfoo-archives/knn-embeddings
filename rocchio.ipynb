{
 "cells": [
  {
   "cell_type": "markdown",
   "metadata": {},
   "source": [
    "# Rocchio with tfidfs and word embeddings"
   ]
  },
  {
   "cell_type": "code",
   "execution_count": 1,
   "metadata": {},
   "outputs": [],
   "source": [
    "import os\n",
    "import numpy as np\n",
    "import pandas as pd\n",
    "from sklearn.neighbors import NearestCentroid\n",
    "from sklearn.feature_extraction.text import TfidfVectorizer\n",
    "from sklearn.metrics import accuracy_score\n",
    "from sklearn.metrics import precision_recall_fscore_support\n",
    "from gensim.models.word2vec import Word2Vec"
   ]
  },
  {
   "cell_type": "code",
   "execution_count": 2,
   "metadata": {},
   "outputs": [],
   "source": [
    "def get_corpus_dfs(n):\n",
    "    if n == 1:\n",
    "        s = 'corpus1'\n",
    "    elif n == 2:\n",
    "        s = 'split_corpus2'\n",
    "    elif n == 3:\n",
    "        s = 'split_corpus3'\n",
    "\n",
    "    train = pd.read_csv('data/{}_train.labels'.format(s),\n",
    "                        delim_whitespace=True,\n",
    "                        names=['path', 'clf'])\n",
    "    \n",
    "    test = pd.read_csv('data/{}_test.labels'.format(s),\n",
    "                       delim_whitespace=True,\n",
    "                       names=['path', 'clf'])\n",
    "    \n",
    "    train.loc[:, 'path'] = train.loc[:, 'path'].map(lambda s: 'data' + s[1:])\n",
    "    test.loc[:, 'path'] = test.loc[:, 'path'].map(lambda s: 'data' + s[1:])\n",
    "    \n",
    "    return train, test"
   ]
  },
  {
   "cell_type": "code",
   "execution_count": 3,
   "metadata": {},
   "outputs": [],
   "source": [
    "def rocchio_performance(X_train, y_train, X_test, y_test):\n",
    "    '''\n",
    "    Given a train and test split, measure the overall accuracy,\n",
    "    precision, recall, F-1 score and support of the Rocchio classifier.\n",
    "    '''\n",
    "    rocchio_tfidf = NearestCentroid().fit(X_train, y_train)\n",
    "    \n",
    "    predictions = rocchio_tfidf.predict(X_test)\n",
    "    \n",
    "    acc =  accuracy_score(y_test, predictions)\n",
    "    prfs = np.vstack(precision_recall_fscore_support(predictions, y_test))\n",
    "    \n",
    "    print('Overall accuracy: {:f}'.format(acc))\n",
    "    print()\n",
    "    print(pd.DataFrame(data=prfs,\n",
    "                       index=['Precision', 'Recall', 'F-1', 'Support'],\n",
    "                       columns=rocchio_tfidf.classes_))\n",
    "    \n",
    "    return acc, prfs"
   ]
  },
  {
   "cell_type": "markdown",
   "metadata": {},
   "source": [
    "## Rocchio-tfidf"
   ]
  },
  {
   "cell_type": "code",
   "execution_count": 4,
   "metadata": {},
   "outputs": [
    {
     "name": "stdout",
     "output_type": "stream",
     "text": [
      "Corpus 1:\n",
      "Overall accuracy: 0.844244\n",
      "\n",
      "                 Cri        Dis        Oth         Pol         Str\n",
      "Precision   0.740000   0.977528   0.520000    0.791667    0.911111\n",
      "Recall      0.948718   0.906250   0.812500    0.883721    0.754601\n",
      "F-1         0.831461   0.940541   0.634146    0.835165    0.825503\n",
      "Support    39.000000  96.000000  16.000000  129.000000  163.000000\n",
      "\n",
      "\n",
      "Corpus 2:\n",
      "Overall accuracy: 0.802013\n",
      "\n",
      "                   I           O\n",
      "Precision   0.626374    0.879227\n",
      "Recall      0.695122    0.842593\n",
      "F-1         0.658960    0.860520\n",
      "Support    82.000000  216.000000\n",
      "\n",
      "\n",
      "Corpus 3:\n",
      "Overall accuracy: 0.886792\n",
      "\n",
      "                 Ent        Fin        Sci        Spo        USN         Wor\n",
      "Precision   0.750000   0.857143   0.973684   0.964286   0.913580    0.846154\n",
      "Recall      0.900000   0.923077   0.698113   0.964286   0.850575    0.980198\n",
      "F-1         0.818182   0.888889   0.813187   0.964286   0.880952    0.908257\n",
      "Support    10.000000  39.000000  53.000000  28.000000  87.000000  101.000000\n",
      "\n",
      "\n"
     ]
    }
   ],
   "source": [
    "for i in range(1, 4):\n",
    "    train, test = get_corpus_dfs(i)\n",
    "\n",
    "    vec = TfidfVectorizer(input='filename',\n",
    "                          strip_accents='unicode',\n",
    "                          stop_words='english',\n",
    "                          max_df=0.90,\n",
    "                          min_df=2,\n",
    "                          norm='l2')\n",
    "\n",
    "    tfidf_train = vec.fit_transform(train.loc[:, 'path'])\n",
    "    tfidf_test = vec.transform(test.loc[:, 'path'])\n",
    "    clf_train = train.loc[:, 'clf']\n",
    "    clf_test = test.loc[:, 'clf']\n",
    "\n",
    "    print('Corpus {}:'.format(i))\n",
    "    acc, prfs = rocchio_performance(tfidf_train, clf_train, tfidf_test, clf_test)\n",
    "    print('')\n",
    "    print('')"
   ]
  },
  {
   "cell_type": "markdown",
   "metadata": {},
   "source": [
    "## Rocchio-glove"
   ]
  },
  {
   "cell_type": "code",
   "execution_count": null,
   "metadata": {},
   "outputs": [],
   "source": []
  },
  {
   "cell_type": "markdown",
   "metadata": {},
   "source": [
    "## Rocchio-word2vec"
   ]
  },
  {
   "cell_type": "code",
   "execution_count": 5,
   "metadata": {},
   "outputs": [],
   "source": [
    "w2v = Word2Vec.load('embeddings/w2v.corpus1.300d')"
   ]
  },
  {
   "cell_type": "code",
   "execution_count": 15,
   "metadata": {},
   "outputs": [
    {
     "data": {
      "text/plain": [
       "array([ 1.9415584 , -1.3826284 , -1.0156057 ,  0.2602323 ,  0.56473917,\n",
       "        3.6947465 , -0.24956742, -1.0787795 , -1.0018904 , -1.0129349 ,\n",
       "        0.8157601 , -0.46081585, -0.194969  , -1.20733   , -0.46452352,\n",
       "       -1.3305407 ,  0.08218218,  3.240386  ,  0.95941305,  0.0625281 ,\n",
       "       -0.46261966,  1.5702417 , -0.33920467, -1.202168  ,  0.5328616 ,\n",
       "        0.71855175, -2.6587431 ,  0.7789982 ,  0.2857616 , -1.273185  ,\n",
       "       -0.27209488, -0.47511098, -2.0400639 ,  0.7335952 , -2.326173  ,\n",
       "        0.407348  , -1.0390999 ,  0.59787387,  1.2568825 , -0.20323618,\n",
       "        1.3961715 , -1.51667   , -0.93408954, -0.52933574, -0.74006504,\n",
       "        0.42957413,  0.697001  ,  0.15387633,  0.31007656,  0.49997726,\n",
       "        0.40808576,  0.3003306 , -1.1185716 , -1.4720756 , -1.3439126 ,\n",
       "       -0.18884575, -0.52496725,  0.24829341, -0.5797517 , -1.0566502 ,\n",
       "        0.27602664, -1.0743768 ,  0.5447892 , -0.85218406, -0.5409668 ,\n",
       "        0.8108928 ,  0.47089043, -1.0315297 ,  0.12063687, -0.3518289 ,\n",
       "        1.8812524 ,  1.5838097 , -0.77554446,  2.0844605 , -1.1961598 ,\n",
       "       -1.0163549 ,  0.13879305,  0.77103645,  1.0854496 , -1.5484383 ,\n",
       "       -0.48357192,  1.3456352 , -0.16581097, -0.3462768 ,  0.10952524,\n",
       "        0.3655233 , -1.0345073 , -1.623567  ,  1.0527446 , -0.6329289 ,\n",
       "        1.1733074 , -0.44439167, -1.1203157 , -0.03422383, -1.8721406 ,\n",
       "       -0.95187896, -0.7454613 ,  0.8070461 , -0.5234436 ,  0.8100199 ],\n",
       "      dtype=float32)"
      ]
     },
     "execution_count": 15,
     "metadata": {},
     "output_type": "execute_result"
    }
   ],
   "source": [
    "w2v.wv['king']"
   ]
  },
  {
   "cell_type": "code",
   "execution_count": null,
   "metadata": {},
   "outputs": [],
   "source": []
  }
 ],
 "metadata": {
  "kernelspec": {
   "display_name": "Python 3",
   "language": "python",
   "name": "python3"
  },
  "language_info": {
   "codemirror_mode": {
    "name": "ipython",
    "version": 3
   },
   "file_extension": ".py",
   "mimetype": "text/x-python",
   "name": "python",
   "nbconvert_exporter": "python",
   "pygments_lexer": "ipython3",
   "version": "3.6.2"
  }
 },
 "nbformat": 4,
 "nbformat_minor": 2
}
