{
 "cells": [
  {
   "cell_type": "code",
   "execution_count": 1,
   "metadata": {},
   "outputs": [],
   "source": [
    "import os\n",
    "import numpy as np\n",
    "import pandas as pd\n",
    "from sklearn.neighbors import NearestCentroid\n",
    "from sklearn.feature_extraction.text import TfidfVectorizer\n",
    "from sklearn.metrics import accuracy_score\n",
    "from sklearn.metrics import precision_recall_fscore_support\n",
    "from gensim.models.word2vec import Word2Vec"
   ]
  },
  {
   "cell_type": "code",
   "execution_count": 3,
   "metadata": {},
   "outputs": [],
   "source": [
    "def get_corpus_dfs(n):\n",
    "    if n == 1:\n",
    "        s = 'corpus1'\n",
    "    elif n == 2:\n",
    "        s = 'split_corpus2'\n",
    "    elif n ==3:\n",
    "        s = 'split_corpus3'\n",
    "\n",
    "    train = pd.read_csv('data/{}_train.labels'.format(s),\n",
    "                        delim_whitespace=True,\n",
    "                        names=['path', 'clf'])\n",
    "    \n",
    "    test = pd.read_csv('data/{}_test.labels'.format(s),\n",
    "                       delim_whitespace=True,\n",
    "                       names=['path', 'clf'])\n",
    "    \n",
    "    train.loc[:, 'path'] = train.loc[:, 'path'].map(lambda s: 'data' + s[1:])\n",
    "    test.loc[:, 'path'] = test.loc[:, 'path'].map(lambda s: 'data' + s[1:])\n",
    "    \n",
    "    return train, test"
   ]
  },
  {
   "cell_type": "code",
   "execution_count": 22,
   "metadata": {},
   "outputs": [],
   "source": [
    "def rocchio_performance(X_train, y_train, X_test, y_test):\n",
    "    '''\n",
    "    Given a train and test split, measure the overall accuracy,\n",
    "    precision, recall, F-1 score and support of the Rocchio classifier.\n",
    "    '''\n",
    "    rocchio_tfidf = NearestCentroid().fit(X_train, y_train)\n",
    "    \n",
    "    predictions = rocchio_tfidf.predict(X_test)\n",
    "    \n",
    "    acc =  accuracy_score(y_test, predictions)\n",
    "    prfs = np.vstack(precision_recall_fscore_support(predictions, y_test))\n",
    "    \n",
    "    print(acc)\n",
    "    print()\n",
    "    print(prfs)\n",
    "    \n",
    "    return acc, prfs"
   ]
  },
  {
   "cell_type": "markdown",
   "metadata": {},
   "source": [
    "## Rocchio-tfidf"
   ]
  },
  {
   "cell_type": "code",
   "execution_count": 4,
   "metadata": {},
   "outputs": [],
   "source": [
    "train, test = get_corpus_dfs(1)"
   ]
  },
  {
   "cell_type": "code",
   "execution_count": 5,
   "metadata": {},
   "outputs": [],
   "source": [
    "vec = TfidfVectorizer(input='filename',\n",
    "                      strip_accents='unicode',\n",
    "                      stop_words='english',\n",
    "                      max_df=0.90,\n",
    "                      min_df=2,\n",
    "                      norm='l2')\n",
    "\n",
    "tfidf_train = vec.fit_transform(train.loc[:, 'path'])\n",
    "clf_train = train.loc[:, 'clf']"
   ]
  },
  {
   "cell_type": "code",
   "execution_count": 6,
   "metadata": {},
   "outputs": [],
   "source": [
    "tfidf_test = vec.transform(test.loc[:, 'path'])\n",
    "clf_test = test.loc[:, 'clf']"
   ]
  },
  {
   "cell_type": "code",
   "execution_count": 27,
   "metadata": {
    "scrolled": false
   },
   "outputs": [
    {
     "name": "stdout",
     "output_type": "stream",
     "text": [
      "0.8442437923250564\n",
      "\n",
      "[[  0.74         0.97752809   0.52         0.79166667   0.91111111]\n",
      " [  0.94871795   0.90625      0.8125       0.88372093   0.75460123]\n",
      " [  0.83146067   0.94054054   0.63414634   0.83516484   0.82550336]\n",
      " [ 39.          96.          16.         129.         163.        ]]\n"
     ]
    }
   ],
   "source": [
    "rocchio_performance(tfidf_train, clf_train, tfidf_test, clf_test);"
   ]
  },
  {
   "cell_type": "markdown",
   "metadata": {},
   "source": [
    "## Rocchio-glove"
   ]
  },
  {
   "cell_type": "code",
   "execution_count": null,
   "metadata": {},
   "outputs": [],
   "source": []
  },
  {
   "cell_type": "markdown",
   "metadata": {},
   "source": [
    "## Rocchio-word2vec"
   ]
  },
  {
   "cell_type": "code",
   "execution_count": 2,
   "metadata": {},
   "outputs": [],
   "source": [
    "w2v = Word2Vec.load('embeddings/w2v.corpus1.300d')"
   ]
  },
  {
   "cell_type": "code",
   "execution_count": null,
   "metadata": {},
   "outputs": [],
   "source": []
  }
 ],
 "metadata": {
  "kernelspec": {
   "display_name": "Python 3",
   "language": "python",
   "name": "python3"
  },
  "language_info": {
   "codemirror_mode": {
    "name": "ipython",
    "version": 3
   },
   "file_extension": ".py",
   "mimetype": "text/x-python",
   "name": "python",
   "nbconvert_exporter": "python",
   "pygments_lexer": "ipython3",
   "version": "3.6.4"
  }
 },
 "nbformat": 4,
 "nbformat_minor": 2
}
