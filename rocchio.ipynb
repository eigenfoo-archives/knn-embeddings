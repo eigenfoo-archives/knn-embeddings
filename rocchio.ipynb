{
 "cells": [
  {
   "cell_type": "markdown",
   "metadata": {},
   "source": [
    "# Rocchio with tfidfs and word embeddings"
   ]
  },
  {
   "cell_type": "code",
   "execution_count": 16,
   "metadata": {},
   "outputs": [],
   "source": [
    "import os\n",
    "import csv\n",
    "import re\n",
    "import warnings\n",
    "warnings.filterwarnings('ignore')\n",
    "import numpy as np\n",
    "import pandas as pd\n",
    "from sklearn.neighbors import NearestCentroid\n",
    "from sklearn.feature_extraction.text import TfidfVectorizer\n",
    "from sklearn.metrics import accuracy_score\n",
    "from sklearn.metrics import precision_recall_fscore_support\n",
    "from gensim.models.word2vec import Word2Vec"
   ]
  },
  {
   "cell_type": "code",
   "execution_count": 3,
   "metadata": {},
   "outputs": [],
   "source": [
    "def get_corpus_dfs(n):\n",
    "    if n == 1:\n",
    "        s = 'corpus1'\n",
    "    elif n == 2:\n",
    "        s = 'split_corpus2'\n",
    "    elif n == 3:\n",
    "        s = 'split_corpus3'\n",
    "\n",
    "    train = pd.read_csv('data/{}_train.labels'.format(s),\n",
    "                        delim_whitespace=True,\n",
    "                        names=['path', 'clf'])\n",
    "    \n",
    "    test = pd.read_csv('data/{}_test.labels'.format(s),\n",
    "                       delim_whitespace=True,\n",
    "                       names=['path', 'clf'])\n",
    "    \n",
    "    train.loc[:, 'path'] = train.loc[:, 'path'].map(lambda s: 'data' + s[1:])\n",
    "    test.loc[:, 'path'] = test.loc[:, 'path'].map(lambda s: 'data' + s[1:])\n",
    "    \n",
    "    return train, test"
   ]
  },
  {
   "cell_type": "code",
   "execution_count": 4,
   "metadata": {},
   "outputs": [],
   "source": [
    "def rocchio_performance(X_train, y_train, X_test, y_test):\n",
    "    '''\n",
    "    Given a train and test split, measure the overall accuracy,\n",
    "    precision, recall, F-1 score and support of the Rocchio classifier.\n",
    "    '''\n",
    "    rocchio_tfidf = NearestCentroid().fit(X_train, y_train)\n",
    "    \n",
    "    predictions = rocchio_tfidf.predict(X_test)\n",
    "    \n",
    "    acc =  accuracy_score(y_test, predictions)\n",
    "    prfs = np.vstack(precision_recall_fscore_support(predictions, y_test))\n",
    "    \n",
    "    print('Overall accuracy: {:f}'.format(acc))\n",
    "    print()\n",
    "    print(pd.DataFrame(data=prfs,\n",
    "                       index=['Precision', 'Recall', 'F-1', 'Support'],\n",
    "                       columns=rocchio_tfidf.classes_))\n",
    "    \n",
    "    return acc, prfs"
   ]
  },
  {
   "cell_type": "code",
   "execution_count": 34,
   "metadata": {},
   "outputs": [],
   "source": [
    "def get_embeddeding_matrix(corpus_df, func, dim=300):\n",
    "    X = np.zeros([len(corpus_df), dim])\n",
    "    \n",
    "    for j in range(len(corpus_df)):\n",
    "        with open(corpus_df.loc[j, 'path']) as f:\n",
    "            words = f.read().lower().split()\n",
    "            #re.findall(r\"\\w+|[^\\w\\s]\", f.read().lower(), re.UNICODE)\n",
    "        X[j] = func(glove.loc[words])\n",
    "    \n",
    "    return X"
   ]
  },
  {
   "cell_type": "markdown",
   "metadata": {},
   "source": [
    "## Rocchio-tfidf"
   ]
  },
  {
   "cell_type": "code",
   "execution_count": 4,
   "metadata": {},
   "outputs": [
    {
     "name": "stdout",
     "output_type": "stream",
     "text": [
      "Corpus 1:\n",
      "Overall accuracy: 0.844244\n",
      "\n",
      "                 Cri        Dis        Oth         Pol         Str\n",
      "Precision   0.740000   0.977528   0.520000    0.791667    0.911111\n",
      "Recall      0.948718   0.906250   0.812500    0.883721    0.754601\n",
      "F-1         0.831461   0.940541   0.634146    0.835165    0.825503\n",
      "Support    39.000000  96.000000  16.000000  129.000000  163.000000\n",
      "\n",
      "\n",
      "Corpus 2:\n",
      "Overall accuracy: 0.802013\n",
      "\n",
      "                   I           O\n",
      "Precision   0.626374    0.879227\n",
      "Recall      0.695122    0.842593\n",
      "F-1         0.658960    0.860520\n",
      "Support    82.000000  216.000000\n",
      "\n",
      "\n",
      "Corpus 3:\n",
      "Overall accuracy: 0.886792\n",
      "\n",
      "                 Ent        Fin        Sci        Spo        USN         Wor\n",
      "Precision   0.750000   0.857143   0.973684   0.964286   0.913580    0.846154\n",
      "Recall      0.900000   0.923077   0.698113   0.964286   0.850575    0.980198\n",
      "F-1         0.818182   0.888889   0.813187   0.964286   0.880952    0.908257\n",
      "Support    10.000000  39.000000  53.000000  28.000000  87.000000  101.000000\n",
      "\n",
      "\n"
     ]
    }
   ],
   "source": [
    "for i in range(1, 4):\n",
    "    train, test = get_corpus_dfs(i)\n",
    "\n",
    "    vec = TfidfVectorizer(input='filename',\n",
    "                          strip_accents='unicode',\n",
    "                          stop_words='english',\n",
    "                          max_df=0.90,\n",
    "                          min_df=2,\n",
    "                          norm='l2')\n",
    "\n",
    "    tfidf_train = vec.fit_transform(train.loc[:, 'path'])\n",
    "    tfidf_test = vec.transform(test.loc[:, 'path'])\n",
    "    clf_train = train.loc[:, 'clf']\n",
    "    clf_test = test.loc[:, 'clf']\n",
    "\n",
    "    print('Corpus {}:'.format(i))\n",
    "    acc, prfs = rocchio_performance(tfidf_train, clf_train, tfidf_test, clf_test)\n",
    "    print('')\n",
    "    print('')"
   ]
  },
  {
   "cell_type": "markdown",
   "metadata": {},
   "source": [
    "## Rocchio-glove"
   ]
  },
  {
   "cell_type": "code",
   "execution_count": 5,
   "metadata": {},
   "outputs": [],
   "source": [
    "glove = pd.read_table('embeddings/glove.6B.300d.txt',\n",
    "                      delimiter=' ',\n",
    "                      index_col=0,\n",
    "                      header=None,\n",
    "                      quoting=csv.QUOTE_NONE)"
   ]
  },
  {
   "cell_type": "code",
   "execution_count": 35,
   "metadata": {
    "scrolled": false
   },
   "outputs": [
    {
     "name": "stdout",
     "output_type": "stream",
     "text": [
      "Corpus 1:\n",
      "Overall accuracy: 0.835214\n",
      "\n",
      "                 Cri        Dis        Oth         Pol         Str\n",
      "Precision   0.860000   0.910112   0.600000    0.840278    0.814815\n",
      "Recall      0.826923   0.870968   0.555556    0.870504    0.833333\n",
      "F-1         0.843137   0.890110   0.576923    0.855124    0.823970\n",
      "Support    52.000000  93.000000  27.000000  139.000000  132.000000\n",
      "\n",
      "\n",
      "Corpus 2:\n",
      "Overall accuracy: 0.775168\n",
      "\n",
      "                   I           O\n",
      "Precision   0.670330    0.821256\n",
      "Recall      0.622449    0.850000\n",
      "F-1         0.645503    0.835381\n",
      "Support    98.000000  200.000000\n",
      "\n",
      "\n",
      "Corpus 3:\n",
      "Overall accuracy: 0.814465\n",
      "\n",
      "                 Ent        Fin        Sci        Spo        USN         Wor\n",
      "Precision   0.833333   0.809524   0.868421   0.750000   0.777778    0.837607\n",
      "Recall      0.312500   0.871795   0.785714   0.954545   0.768293    0.970297\n",
      "F-1         0.454545   0.839506   0.825000   0.840000   0.773006    0.899083\n",
      "Support    32.000000  39.000000  42.000000  22.000000  82.000000  101.000000\n",
      "\n",
      "\n"
     ]
    }
   ],
   "source": [
    "# Mean\n",
    "\n",
    "for i in range(1, 4):\n",
    "    train, test = get_corpus_dfs(i)\n",
    "\n",
    "    X_train = get_embeddeding_matrix(train, np.mean)\n",
    "    X_test = get_embeddeding_matrix(test, np.mean)\n",
    "    clf_train = train.loc[:, 'clf']\n",
    "    clf_test = test.loc[:, 'clf']\n",
    "\n",
    "    print('Corpus {}:'.format(i))\n",
    "    acc, prfs = rocchio_performance(X_train, clf_train, X_test, clf_test)\n",
    "    print('')\n",
    "    print('')"
   ]
  },
  {
   "cell_type": "code",
   "execution_count": 36,
   "metadata": {},
   "outputs": [
    {
     "name": "stdout",
     "output_type": "stream",
     "text": [
      "Corpus 1:\n",
      "Overall accuracy: 0.749436\n",
      "\n",
      "                 Cri        Dis        Oth         Pol         Str\n",
      "Precision   0.740000   0.842697   0.480000    0.784722    0.703704\n",
      "Recall      0.506849   0.862069   0.461538    0.882812    0.736434\n",
      "F-1         0.601626   0.852273   0.470588    0.830882    0.719697\n",
      "Support    73.000000  87.000000  26.000000  128.000000  129.000000\n",
      "\n",
      "\n",
      "Corpus 2:\n",
      "Overall accuracy: 0.788591\n",
      "\n",
      "                   I           O\n",
      "Precision   0.692308    0.830918\n",
      "Recall      0.642857    0.860000\n",
      "F-1         0.666667    0.845209\n",
      "Support    98.000000  200.000000\n",
      "\n",
      "\n",
      "Corpus 3:\n",
      "Overall accuracy: 0.745283\n",
      "\n",
      "                 Ent        Fin        Sci        Spo        USN         Wor\n",
      "Precision   0.916667   0.833333   0.684211   0.821429   0.691358    0.735043\n",
      "Recall      0.440000   0.625000   0.764706   1.000000   0.708861    0.851485\n",
      "F-1         0.594595   0.714286   0.722222   0.901961   0.700000    0.788991\n",
      "Support    25.000000  56.000000  34.000000  23.000000  79.000000  101.000000\n",
      "\n",
      "\n"
     ]
    }
   ],
   "source": [
    "# Max\n",
    "\n",
    "for i in range(1, 4):\n",
    "    train, test = get_corpus_dfs(i)\n",
    "\n",
    "    \n",
    "    X_train = get_embeddeding_matrix(train, lambda x: np.amax(x, axis=0))\n",
    "    X_test = get_embeddeding_matrix(test, lambda x: np.amax(x, axis=0))\n",
    "    clf_train = train.loc[:, 'clf']\n",
    "    clf_test = test.loc[:, 'clf']\n",
    "\n",
    "    print('Corpus {}:'.format(i))\n",
    "    acc, prfs = rocchio_performance(X_train, clf_train, X_test, clf_test)\n",
    "    print('')\n",
    "    print('')"
   ]
  },
  {
   "cell_type": "code",
   "execution_count": 37,
   "metadata": {},
   "outputs": [
    {
     "name": "stdout",
     "output_type": "stream",
     "text": [
      "Corpus 1:\n",
      "Overall accuracy: 0.702032\n",
      "\n",
      "                 Cri        Dis        Oth         Pol         Str\n",
      "Precision   0.700000   0.842697   0.440000    0.680556    0.681481\n",
      "Recall      0.416667   0.903614   0.423077    0.823529    0.702290\n",
      "F-1         0.522388   0.872093   0.431373    0.745247    0.691729\n",
      "Support    84.000000  83.000000  26.000000  119.000000  131.000000\n",
      "\n",
      "\n",
      "Corpus 2:\n",
      "Overall accuracy: 0.768456\n",
      "\n",
      "                    I           O\n",
      "Precision    0.714286    0.792271\n",
      "Recall       0.601852    0.863158\n",
      "F-1          0.653266    0.826196\n",
      "Support    108.000000  190.000000\n",
      "\n",
      "\n",
      "Corpus 3:\n",
      "Overall accuracy: 0.820755\n",
      "\n",
      "                 Ent        Fin        Sci        Spo        USN         Wor\n",
      "Precision   0.916667   0.785714   0.868421   0.892857   0.765432    0.829060\n",
      "Recall      0.343750   0.868421   0.825000   1.000000   0.784810    0.932692\n",
      "F-1         0.500000   0.825000   0.846154   0.943396   0.775000    0.877828\n",
      "Support    32.000000  38.000000  40.000000  25.000000  79.000000  104.000000\n",
      "\n",
      "\n"
     ]
    }
   ],
   "source": [
    "# Min\n",
    "\n",
    "for i in range(1, 4):\n",
    "    train, test = get_corpus_dfs(i)\n",
    "\n",
    "    X_train = get_embeddeding_matrix(train, lambda x: np.amin(x, axis=0))\n",
    "    X_test = get_embeddeding_matrix(test, lambda x: np.amin(x, axis=0))\n",
    "    clf_train = train.loc[:, 'clf']\n",
    "    clf_test = test.loc[:, 'clf']\n",
    "\n",
    "    print('Corpus {}:'.format(i))\n",
    "    acc, prfs = rocchio_performance(X_train, clf_train, X_test, clf_test)\n",
    "    print('')\n",
    "    print('')"
   ]
  },
  {
   "cell_type": "code",
   "execution_count": 38,
   "metadata": {},
   "outputs": [
    {
     "ename": "KeyboardInterrupt",
     "evalue": "",
     "output_type": "error",
     "traceback": [
      "\u001b[0;31m---------------------------------------------------------------------------\u001b[0m",
      "\u001b[0;31mKeyboardInterrupt\u001b[0m                         Traceback (most recent call last)",
      "\u001b[0;32m<ipython-input-38-b87153ffd1fb>\u001b[0m in \u001b[0;36m<module>\u001b[0;34m()\u001b[0m\n\u001b[1;32m      8\u001b[0m                                      lambda x: np.hstack([np.amax(x, axis=0),\n\u001b[1;32m      9\u001b[0m                                                           np.amin(x, axis=0)]),\n\u001b[0;32m---> 10\u001b[0;31m                                      dim=600)\n\u001b[0m\u001b[1;32m     11\u001b[0m \u001b[0;34m\u001b[0m\u001b[0m\n\u001b[1;32m     12\u001b[0m     X_test = get_embeddeding_matrix(test,\n",
      "\u001b[0;32m<ipython-input-34-4df4829eaaf9>\u001b[0m in \u001b[0;36mget_embeddeding_matrix\u001b[0;34m(corpus_df, func, dim)\u001b[0m\n\u001b[1;32m      6\u001b[0m             \u001b[0mwords\u001b[0m \u001b[0;34m=\u001b[0m \u001b[0mf\u001b[0m\u001b[0;34m.\u001b[0m\u001b[0mread\u001b[0m\u001b[0;34m(\u001b[0m\u001b[0;34m)\u001b[0m\u001b[0;34m.\u001b[0m\u001b[0mlower\u001b[0m\u001b[0;34m(\u001b[0m\u001b[0;34m)\u001b[0m\u001b[0;34m.\u001b[0m\u001b[0msplit\u001b[0m\u001b[0;34m(\u001b[0m\u001b[0;34m)\u001b[0m\u001b[0;34m\u001b[0m\u001b[0m\n\u001b[1;32m      7\u001b[0m             \u001b[0;31m#re.findall(r\"\\w+|[^\\w\\s]\", f.read().lower(), re.UNICODE)\u001b[0m\u001b[0;34m\u001b[0m\u001b[0;34m\u001b[0m\u001b[0m\n\u001b[0;32m----> 8\u001b[0;31m         \u001b[0mX\u001b[0m\u001b[0;34m[\u001b[0m\u001b[0mj\u001b[0m\u001b[0;34m]\u001b[0m \u001b[0;34m=\u001b[0m \u001b[0mfunc\u001b[0m\u001b[0;34m(\u001b[0m\u001b[0mglove\u001b[0m\u001b[0;34m.\u001b[0m\u001b[0mloc\u001b[0m\u001b[0;34m[\u001b[0m\u001b[0mwords\u001b[0m\u001b[0;34m]\u001b[0m\u001b[0;34m)\u001b[0m\u001b[0;34m\u001b[0m\u001b[0m\n\u001b[0m\u001b[1;32m      9\u001b[0m \u001b[0;34m\u001b[0m\u001b[0m\n\u001b[1;32m     10\u001b[0m     \u001b[0;32mreturn\u001b[0m \u001b[0mX\u001b[0m\u001b[0;34m\u001b[0m\u001b[0m\n",
      "\u001b[0;32m~/anaconda3/lib/python3.6/site-packages/pandas/core/indexing.py\u001b[0m in \u001b[0;36m__getitem__\u001b[0;34m(self, key)\u001b[0m\n\u001b[1;32m   1371\u001b[0m \u001b[0;34m\u001b[0m\u001b[0m\n\u001b[1;32m   1372\u001b[0m             \u001b[0mmaybe_callable\u001b[0m \u001b[0;34m=\u001b[0m \u001b[0mcom\u001b[0m\u001b[0;34m.\u001b[0m\u001b[0m_apply_if_callable\u001b[0m\u001b[0;34m(\u001b[0m\u001b[0mkey\u001b[0m\u001b[0;34m,\u001b[0m \u001b[0mself\u001b[0m\u001b[0;34m.\u001b[0m\u001b[0mobj\u001b[0m\u001b[0;34m)\u001b[0m\u001b[0;34m\u001b[0m\u001b[0m\n\u001b[0;32m-> 1373\u001b[0;31m             \u001b[0;32mreturn\u001b[0m \u001b[0mself\u001b[0m\u001b[0;34m.\u001b[0m\u001b[0m_getitem_axis\u001b[0m\u001b[0;34m(\u001b[0m\u001b[0mmaybe_callable\u001b[0m\u001b[0;34m,\u001b[0m \u001b[0maxis\u001b[0m\u001b[0;34m=\u001b[0m\u001b[0maxis\u001b[0m\u001b[0;34m)\u001b[0m\u001b[0;34m\u001b[0m\u001b[0m\n\u001b[0m\u001b[1;32m   1374\u001b[0m \u001b[0;34m\u001b[0m\u001b[0m\n\u001b[1;32m   1375\u001b[0m     \u001b[0;32mdef\u001b[0m \u001b[0m_is_scalar_access\u001b[0m\u001b[0;34m(\u001b[0m\u001b[0mself\u001b[0m\u001b[0;34m,\u001b[0m \u001b[0mkey\u001b[0m\u001b[0;34m)\u001b[0m\u001b[0;34m:\u001b[0m\u001b[0;34m\u001b[0m\u001b[0m\n",
      "\u001b[0;32m~/anaconda3/lib/python3.6/site-packages/pandas/core/indexing.py\u001b[0m in \u001b[0;36m_getitem_axis\u001b[0;34m(self, key, axis)\u001b[0m\n\u001b[1;32m   1614\u001b[0m                     \u001b[0;32mraise\u001b[0m \u001b[0mValueError\u001b[0m\u001b[0;34m(\u001b[0m\u001b[0;34m'Cannot index with multidimensional key'\u001b[0m\u001b[0;34m)\u001b[0m\u001b[0;34m\u001b[0m\u001b[0m\n\u001b[1;32m   1615\u001b[0m \u001b[0;34m\u001b[0m\u001b[0m\n\u001b[0;32m-> 1616\u001b[0;31m                 \u001b[0;32mreturn\u001b[0m \u001b[0mself\u001b[0m\u001b[0;34m.\u001b[0m\u001b[0m_getitem_iterable\u001b[0m\u001b[0;34m(\u001b[0m\u001b[0mkey\u001b[0m\u001b[0;34m,\u001b[0m \u001b[0maxis\u001b[0m\u001b[0;34m=\u001b[0m\u001b[0maxis\u001b[0m\u001b[0;34m)\u001b[0m\u001b[0;34m\u001b[0m\u001b[0m\n\u001b[0m\u001b[1;32m   1617\u001b[0m \u001b[0;34m\u001b[0m\u001b[0m\n\u001b[1;32m   1618\u001b[0m             \u001b[0;31m# nested tuple slicing\u001b[0m\u001b[0;34m\u001b[0m\u001b[0;34m\u001b[0m\u001b[0m\n",
      "\u001b[0;32m~/anaconda3/lib/python3.6/site-packages/pandas/core/indexing.py\u001b[0m in \u001b[0;36m_getitem_iterable\u001b[0;34m(self, key, axis)\u001b[0m\n\u001b[1;32m   1113\u001b[0m \u001b[0;34m\u001b[0m\u001b[0m\n\u001b[1;32m   1114\u001b[0m         \u001b[0;32mif\u001b[0m \u001b[0mself\u001b[0m\u001b[0;34m.\u001b[0m\u001b[0m_should_validate_iterable\u001b[0m\u001b[0;34m(\u001b[0m\u001b[0maxis\u001b[0m\u001b[0;34m)\u001b[0m\u001b[0;34m:\u001b[0m\u001b[0;34m\u001b[0m\u001b[0m\n\u001b[0;32m-> 1115\u001b[0;31m             \u001b[0mself\u001b[0m\u001b[0;34m.\u001b[0m\u001b[0m_has_valid_type\u001b[0m\u001b[0;34m(\u001b[0m\u001b[0mkey\u001b[0m\u001b[0;34m,\u001b[0m \u001b[0maxis\u001b[0m\u001b[0;34m)\u001b[0m\u001b[0;34m\u001b[0m\u001b[0m\n\u001b[0m\u001b[1;32m   1116\u001b[0m \u001b[0;34m\u001b[0m\u001b[0m\n\u001b[1;32m   1117\u001b[0m         \u001b[0mlabels\u001b[0m \u001b[0;34m=\u001b[0m \u001b[0mself\u001b[0m\u001b[0;34m.\u001b[0m\u001b[0mobj\u001b[0m\u001b[0;34m.\u001b[0m\u001b[0m_get_axis\u001b[0m\u001b[0;34m(\u001b[0m\u001b[0maxis\u001b[0m\u001b[0;34m)\u001b[0m\u001b[0;34m\u001b[0m\u001b[0m\n",
      "\u001b[0;32m~/anaconda3/lib/python3.6/site-packages/pandas/core/indexing.py\u001b[0m in \u001b[0;36m_has_valid_type\u001b[0;34m(self, key, axis)\u001b[0m\n\u001b[1;32m   1464\u001b[0m \u001b[0;34m\u001b[0m\u001b[0m\n\u001b[1;32m   1465\u001b[0m                 \u001b[0;31m# True indicates missing values\u001b[0m\u001b[0;34m\u001b[0m\u001b[0;34m\u001b[0m\u001b[0m\n\u001b[0;32m-> 1466\u001b[0;31m                 \u001b[0mmissing\u001b[0m \u001b[0;34m=\u001b[0m \u001b[0max\u001b[0m\u001b[0;34m.\u001b[0m\u001b[0mget_indexer_for\u001b[0m\u001b[0;34m(\u001b[0m\u001b[0mkey\u001b[0m\u001b[0;34m)\u001b[0m \u001b[0;34m<\u001b[0m \u001b[0;36m0\u001b[0m\u001b[0;34m\u001b[0m\u001b[0m\n\u001b[0m\u001b[1;32m   1467\u001b[0m \u001b[0;34m\u001b[0m\u001b[0m\n\u001b[1;32m   1468\u001b[0m                 \u001b[0;32mif\u001b[0m \u001b[0mnp\u001b[0m\u001b[0;34m.\u001b[0m\u001b[0many\u001b[0m\u001b[0;34m(\u001b[0m\u001b[0mmissing\u001b[0m\u001b[0;34m)\u001b[0m\u001b[0;34m:\u001b[0m\u001b[0;34m\u001b[0m\u001b[0m\n",
      "\u001b[0;32m~/anaconda3/lib/python3.6/site-packages/pandas/core/indexes/base.py\u001b[0m in \u001b[0;36mget_indexer_for\u001b[0;34m(self, target, **kwargs)\u001b[0m\n\u001b[1;32m   2824\u001b[0m         \u001b[0;32mif\u001b[0m \u001b[0mself\u001b[0m\u001b[0;34m.\u001b[0m\u001b[0mis_unique\u001b[0m\u001b[0;34m:\u001b[0m\u001b[0;34m\u001b[0m\u001b[0m\n\u001b[1;32m   2825\u001b[0m             \u001b[0;32mreturn\u001b[0m \u001b[0mself\u001b[0m\u001b[0;34m.\u001b[0m\u001b[0mget_indexer\u001b[0m\u001b[0;34m(\u001b[0m\u001b[0mtarget\u001b[0m\u001b[0;34m,\u001b[0m \u001b[0;34m**\u001b[0m\u001b[0mkwargs\u001b[0m\u001b[0;34m)\u001b[0m\u001b[0;34m\u001b[0m\u001b[0m\n\u001b[0;32m-> 2826\u001b[0;31m         \u001b[0mindexer\u001b[0m\u001b[0;34m,\u001b[0m \u001b[0m_\u001b[0m \u001b[0;34m=\u001b[0m \u001b[0mself\u001b[0m\u001b[0;34m.\u001b[0m\u001b[0mget_indexer_non_unique\u001b[0m\u001b[0;34m(\u001b[0m\u001b[0mtarget\u001b[0m\u001b[0;34m,\u001b[0m \u001b[0;34m**\u001b[0m\u001b[0mkwargs\u001b[0m\u001b[0;34m)\u001b[0m\u001b[0;34m\u001b[0m\u001b[0m\n\u001b[0m\u001b[1;32m   2827\u001b[0m         \u001b[0;32mreturn\u001b[0m \u001b[0mindexer\u001b[0m\u001b[0;34m\u001b[0m\u001b[0m\n\u001b[1;32m   2828\u001b[0m \u001b[0;34m\u001b[0m\u001b[0m\n",
      "\u001b[0;32m~/anaconda3/lib/python3.6/site-packages/pandas/core/indexes/base.py\u001b[0m in \u001b[0;36mget_indexer_non_unique\u001b[0;34m(self, target)\u001b[0m\n\u001b[1;32m   2814\u001b[0m             \u001b[0mtgt_values\u001b[0m \u001b[0;34m=\u001b[0m \u001b[0mtarget\u001b[0m\u001b[0;34m.\u001b[0m\u001b[0m_values\u001b[0m\u001b[0;34m\u001b[0m\u001b[0m\n\u001b[1;32m   2815\u001b[0m \u001b[0;34m\u001b[0m\u001b[0m\n\u001b[0;32m-> 2816\u001b[0;31m         \u001b[0mindexer\u001b[0m\u001b[0;34m,\u001b[0m \u001b[0mmissing\u001b[0m \u001b[0;34m=\u001b[0m \u001b[0mself\u001b[0m\u001b[0;34m.\u001b[0m\u001b[0m_engine\u001b[0m\u001b[0;34m.\u001b[0m\u001b[0mget_indexer_non_unique\u001b[0m\u001b[0;34m(\u001b[0m\u001b[0mtgt_values\u001b[0m\u001b[0;34m)\u001b[0m\u001b[0;34m\u001b[0m\u001b[0m\n\u001b[0m\u001b[1;32m   2817\u001b[0m         \u001b[0;32mreturn\u001b[0m \u001b[0m_ensure_platform_int\u001b[0m\u001b[0;34m(\u001b[0m\u001b[0mindexer\u001b[0m\u001b[0;34m)\u001b[0m\u001b[0;34m,\u001b[0m \u001b[0mmissing\u001b[0m\u001b[0;34m\u001b[0m\u001b[0m\n\u001b[1;32m   2818\u001b[0m \u001b[0;34m\u001b[0m\u001b[0m\n",
      "\u001b[0;31mKeyboardInterrupt\u001b[0m: "
     ]
    }
   ],
   "source": [
    "# Concat max and min\n",
    "\n",
    "for i in range(1, 4):\n",
    "    train, test = get_corpus_dfs(i)\n",
    "\n",
    "\n",
    "    X_train = get_embeddeding_matrix(train,\n",
    "                                     lambda x: np.hstack([np.amax(x, axis=0),\n",
    "                                                          np.amin(x, axis=0)]),\n",
    "                                     dim=600)\n",
    "    \n",
    "    X_test = get_embeddeding_matrix(test,\n",
    "                                    lambda x: np.hstack([np.amax(x, axis=0),\n",
    "                                                         np.amin(x, axis=0)]),\n",
    "                                    dim=600)\n",
    "    clf_train = train.loc[:, 'clf']\n",
    "    clf_test = test.loc[:, 'clf']\n",
    "\n",
    "    print('Corpus {}:'.format(i))\n",
    "    acc, prfs = rocchio_performance(X_train, clf_train, X_test, clf_test)\n",
    "    print('')\n",
    "    print('')"
   ]
  },
  {
   "cell_type": "code",
   "execution_count": null,
   "metadata": {},
   "outputs": [],
   "source": []
  },
  {
   "cell_type": "code",
   "execution_count": null,
   "metadata": {},
   "outputs": [],
   "source": []
  },
  {
   "cell_type": "code",
   "execution_count": null,
   "metadata": {},
   "outputs": [],
   "source": []
  },
  {
   "cell_type": "code",
   "execution_count": null,
   "metadata": {},
   "outputs": [],
   "source": []
  },
  {
   "cell_type": "markdown",
   "metadata": {},
   "source": [
    "## Rocchio-word2vec"
   ]
  },
  {
   "cell_type": "code",
   "execution_count": 5,
   "metadata": {},
   "outputs": [],
   "source": [
    "w2v = Word2Vec.load('embeddings/w2v.corpus1.300d')"
   ]
  },
  {
   "cell_type": "code",
   "execution_count": 15,
   "metadata": {},
   "outputs": [
    {
     "data": {
      "text/plain": [
       "array([ 1.9415584 , -1.3826284 , -1.0156057 ,  0.2602323 ,  0.56473917,\n",
       "        3.6947465 , -0.24956742, -1.0787795 , -1.0018904 , -1.0129349 ,\n",
       "        0.8157601 , -0.46081585, -0.194969  , -1.20733   , -0.46452352,\n",
       "       -1.3305407 ,  0.08218218,  3.240386  ,  0.95941305,  0.0625281 ,\n",
       "       -0.46261966,  1.5702417 , -0.33920467, -1.202168  ,  0.5328616 ,\n",
       "        0.71855175, -2.6587431 ,  0.7789982 ,  0.2857616 , -1.273185  ,\n",
       "       -0.27209488, -0.47511098, -2.0400639 ,  0.7335952 , -2.326173  ,\n",
       "        0.407348  , -1.0390999 ,  0.59787387,  1.2568825 , -0.20323618,\n",
       "        1.3961715 , -1.51667   , -0.93408954, -0.52933574, -0.74006504,\n",
       "        0.42957413,  0.697001  ,  0.15387633,  0.31007656,  0.49997726,\n",
       "        0.40808576,  0.3003306 , -1.1185716 , -1.4720756 , -1.3439126 ,\n",
       "       -0.18884575, -0.52496725,  0.24829341, -0.5797517 , -1.0566502 ,\n",
       "        0.27602664, -1.0743768 ,  0.5447892 , -0.85218406, -0.5409668 ,\n",
       "        0.8108928 ,  0.47089043, -1.0315297 ,  0.12063687, -0.3518289 ,\n",
       "        1.8812524 ,  1.5838097 , -0.77554446,  2.0844605 , -1.1961598 ,\n",
       "       -1.0163549 ,  0.13879305,  0.77103645,  1.0854496 , -1.5484383 ,\n",
       "       -0.48357192,  1.3456352 , -0.16581097, -0.3462768 ,  0.10952524,\n",
       "        0.3655233 , -1.0345073 , -1.623567  ,  1.0527446 , -0.6329289 ,\n",
       "        1.1733074 , -0.44439167, -1.1203157 , -0.03422383, -1.8721406 ,\n",
       "       -0.95187896, -0.7454613 ,  0.8070461 , -0.5234436 ,  0.8100199 ],\n",
       "      dtype=float32)"
      ]
     },
     "execution_count": 15,
     "metadata": {},
     "output_type": "execute_result"
    }
   ],
   "source": [
    "w2v.wv['king']"
   ]
  },
  {
   "cell_type": "code",
   "execution_count": null,
   "metadata": {},
   "outputs": [],
   "source": []
  },
  {
   "cell_type": "code",
   "execution_count": null,
   "metadata": {},
   "outputs": [],
   "source": []
  },
  {
   "cell_type": "markdown",
   "metadata": {},
   "source": [
    "## Rocchio-fastText"
   ]
  },
  {
   "cell_type": "code",
   "execution_count": null,
   "metadata": {},
   "outputs": [],
   "source": []
  },
  {
   "cell_type": "code",
   "execution_count": null,
   "metadata": {},
   "outputs": [],
   "source": []
  }
 ],
 "metadata": {
  "kernelspec": {
   "display_name": "Python 3",
   "language": "python",
   "name": "python3"
  },
  "language_info": {
   "codemirror_mode": {
    "name": "ipython",
    "version": 3
   },
   "file_extension": ".py",
   "mimetype": "text/x-python",
   "name": "python",
   "nbconvert_exporter": "python",
   "pygments_lexer": "ipython3",
   "version": "3.6.4"
  }
 },
 "nbformat": 4,
 "nbformat_minor": 2
}
